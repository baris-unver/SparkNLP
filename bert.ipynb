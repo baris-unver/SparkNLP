{
  "nbformat": 4,
  "nbformat_minor": 0,
  "metadata": {
    "colab": {
      "name": "bert.ipynb",
      "provenance": [],
      "collapsed_sections": [],
      "authorship_tag": "ABX9TyOQXB3LkMbBulvw1iS5bQ7l",
      "include_colab_link": true
    },
    "kernelspec": {
      "name": "python3",
      "display_name": "Python 3"
    },
    "language_info": {
      "name": "python"
    }
  },
  "cells": [
    {
      "cell_type": "markdown",
      "metadata": {
        "id": "view-in-github",
        "colab_type": "text"
      },
      "source": [
        "<a href=\"https://colab.research.google.com/github/baris-unver/SparkNLP/blob/main/bert.ipynb\" target=\"_parent\"><img src=\"https://colab.research.google.com/assets/colab-badge.svg\" alt=\"Open In Colab\"/></a>"
      ]
    },
    {
      "cell_type": "code",
      "metadata": {
        "colab": {
          "base_uri": "https://localhost:8080/"
        },
        "id": "g5Oq-1fb26bl",
        "outputId": "2470a4b3-98de-4c1a-880b-49e050b7ef60"
      },
      "source": [
        "import os\n",
        "# Install java\n",
        "! apt-get update -qq\n",
        "! apt-get install -y openjdk-8-jdk-headless -qq > /dev/null\n",
        "os.environ[\"JAVA_HOME\"] = \"/usr/lib/jvm/java-8-openjdk-amd64\"\n",
        "os.environ[\"PATH\"] = os.environ[\"JAVA_HOME\"] + \"/bin:\" + os.environ[\"PATH\"]\n",
        "! java -version\n",
        "# Install pyspark\n",
        "! pip install pyspark\n",
        "# Install Spark NLP\n",
        "! pip install spark-nlp"
      ],
      "execution_count": 1,
      "outputs": [
        {
          "output_type": "stream",
          "name": "stdout",
          "text": [
            "openjdk version \"1.8.0_292\"\n",
            "OpenJDK Runtime Environment (build 1.8.0_292-8u292-b10-0ubuntu1~18.04-b10)\n",
            "OpenJDK 64-Bit Server VM (build 25.292-b10, mixed mode)\n",
            "Collecting pyspark\n",
            "  Downloading pyspark-3.2.0.tar.gz (281.3 MB)\n",
            "\u001b[K     |████████████████████████████████| 281.3 MB 38 kB/s \n",
            "\u001b[?25hCollecting py4j==0.10.9.2\n",
            "  Downloading py4j-0.10.9.2-py2.py3-none-any.whl (198 kB)\n",
            "\u001b[K     |████████████████████████████████| 198 kB 52.2 MB/s \n",
            "\u001b[?25hBuilding wheels for collected packages: pyspark\n",
            "  Building wheel for pyspark (setup.py) ... \u001b[?25l\u001b[?25hdone\n",
            "  Created wheel for pyspark: filename=pyspark-3.2.0-py2.py3-none-any.whl size=281805912 sha256=d948f9d18937b1c5c93bdf5871016021982160efb6df40cbbe402d790bd1e591\n",
            "  Stored in directory: /root/.cache/pip/wheels/0b/de/d2/9be5d59d7331c6c2a7c1b6d1a4f463ce107332b1ecd4e80718\n",
            "Successfully built pyspark\n",
            "Installing collected packages: py4j, pyspark\n",
            "Successfully installed py4j-0.10.9.2 pyspark-3.2.0\n",
            "Collecting spark-nlp\n",
            "  Downloading spark_nlp-3.3.1-py2.py3-none-any.whl (122 kB)\n",
            "\u001b[K     |████████████████████████████████| 122 kB 5.2 MB/s \n",
            "\u001b[?25hInstalling collected packages: spark-nlp\n",
            "Successfully installed spark-nlp-3.3.1\n"
          ]
        }
      ]
    },
    {
      "cell_type": "code",
      "metadata": {
        "colab": {
          "base_uri": "https://localhost:8080/"
        },
        "id": "UcYguBd2GbxD",
        "outputId": "90c13c23-469b-4965-9478-1250a5b83d5c"
      },
      "source": [
        "!wget http://setup.johnsnowlabs.com/colab.sh -O - | bash"
      ],
      "execution_count": 2,
      "outputs": [
        {
          "output_type": "stream",
          "name": "stdout",
          "text": [
            "--2021-10-31 06:48:32--  http://setup.johnsnowlabs.com/colab.sh\n",
            "Resolving setup.johnsnowlabs.com (setup.johnsnowlabs.com)... 51.158.130.125\n",
            "Connecting to setup.johnsnowlabs.com (setup.johnsnowlabs.com)|51.158.130.125|:80... connected.\n",
            "HTTP request sent, awaiting response... 302 Found\n",
            "Location: https://setup.johnsnowlabs.com/colab.sh [following]\n",
            "--2021-10-31 06:48:32--  https://setup.johnsnowlabs.com/colab.sh\n",
            "Connecting to setup.johnsnowlabs.com (setup.johnsnowlabs.com)|51.158.130.125|:443... connected.\n",
            "HTTP request sent, awaiting response... 302 Moved Temporarily\n",
            "Location: https://raw.githubusercontent.com/JohnSnowLabs/spark-nlp/master/scripts/colab_setup.sh [following]\n",
            "--2021-10-31 06:48:32--  https://raw.githubusercontent.com/JohnSnowLabs/spark-nlp/master/scripts/colab_setup.sh\n",
            "Resolving raw.githubusercontent.com (raw.githubusercontent.com)... 185.199.108.133, 185.199.109.133, 185.199.110.133, ...\n",
            "Connecting to raw.githubusercontent.com (raw.githubusercontent.com)|185.199.108.133|:443... connected.\n",
            "HTTP request sent, awaiting response... 200 OK\n",
            "Length: 1608 (1.6K) [text/plain]\n",
            "Saving to: ‘STDOUT’\n",
            "\n",
            "-                   100%[===================>]   1.57K  --.-KB/s    in 0s      \n",
            "\n",
            "2021-10-31 06:48:32 (30.7 MB/s) - written to stdout [1608/1608]\n",
            "\n",
            "setup Colab for PySpark 3.0.3 and Spark NLP 3.3.1\n",
            "Hit:1 https://cloud.r-project.org/bin/linux/ubuntu bionic-cran40/ InRelease\n",
            "Hit:2 http://security.ubuntu.com/ubuntu bionic-security InRelease\n",
            "Ign:3 https://developer.download.nvidia.com/compute/cuda/repos/ubuntu1804/x86_64  InRelease\n",
            "Ign:4 https://developer.download.nvidia.com/compute/machine-learning/repos/ubuntu1804/x86_64  InRelease\n",
            "Hit:5 http://ppa.launchpad.net/c2d4u.team/c2d4u4.0+/ubuntu bionic InRelease\n",
            "Hit:6 https://developer.download.nvidia.com/compute/cuda/repos/ubuntu1804/x86_64  Release\n",
            "Hit:7 https://developer.download.nvidia.com/compute/machine-learning/repos/ubuntu1804/x86_64  Release\n",
            "Hit:8 http://archive.ubuntu.com/ubuntu bionic InRelease\n",
            "Hit:9 http://ppa.launchpad.net/cran/libgit2/ubuntu bionic InRelease\n",
            "Hit:10 http://archive.ubuntu.com/ubuntu bionic-updates InRelease\n",
            "Hit:11 http://archive.ubuntu.com/ubuntu bionic-backports InRelease\n",
            "Hit:12 http://ppa.launchpad.net/deadsnakes/ppa/ubuntu bionic InRelease\n",
            "Hit:13 http://ppa.launchpad.net/graphics-drivers/ppa/ubuntu bionic InRelease\n",
            "Reading package lists... Done\n",
            "\u001b[K     |████████████████████████████████| 209.1 MB 64 kB/s \n",
            "\u001b[K     |████████████████████████████████| 198 kB 54.5 MB/s \n",
            "\u001b[?25h  Building wheel for pyspark (setup.py) ... \u001b[?25l\u001b[?25hdone\n"
          ]
        }
      ]
    },
    {
      "cell_type": "code",
      "metadata": {
        "colab": {
          "base_uri": "https://localhost:8080/"
        },
        "id": "rXMA2dS_3jmz",
        "outputId": "c74a719f-d82b-49a8-d221-8ff3eeb69e21"
      },
      "source": [
        "import sparknlp\n",
        "spark = sparknlp.start()\n",
        "print(\"Spark NLP version: {}\".format(sparknlp.version()))\n",
        "print(\"Apache Spark version: {}\".format(spark.version))"
      ],
      "execution_count": 3,
      "outputs": [
        {
          "output_type": "stream",
          "name": "stdout",
          "text": [
            "Spark NLP version: 3.3.1\n",
            "Apache Spark version: 3.0.3\n"
          ]
        }
      ]
    },
    {
      "cell_type": "code",
      "metadata": {
        "id": "ruXww1j132oF"
      },
      "source": [
        "from pyspark.ml import Pipeline\n",
        "from sparknlp.annotator import *\n",
        "from sparknlp.common import *\n",
        "from sparknlp.base import *"
      ],
      "execution_count": 4,
      "outputs": []
    },
    {
      "cell_type": "code",
      "metadata": {
        "colab": {
          "base_uri": "https://localhost:8080/"
        },
        "id": "Aiq2SMgb4XXA",
        "outputId": "e1ee2f09-4175-4940-ace0-30ca60646aee"
      },
      "source": [
        "# Downloading data set for use\n",
        "! wget https://raw.githubusercontent.com/murat-gunay/NLP/master/02_NLP_Projects/2-project_2_Turkish_sparkNLP_Classification/turkish_categorical_corpus.csv\n",
        "# Creating a Spark DataFrame\n",
        "df_Spark = spark.read \\\n",
        "  .option(\"header\", True) \\\n",
        "  .csv(\"turkish_categorical_corpus.csv\")"
      ],
      "execution_count": 5,
      "outputs": [
        {
          "output_type": "stream",
          "name": "stdout",
          "text": [
            "--2021-10-31 06:50:49--  https://raw.githubusercontent.com/murat-gunay/NLP/master/02_NLP_Projects/2-project_2_Turkish_sparkNLP_Classification/turkish_categorical_corpus.csv\n",
            "Resolving raw.githubusercontent.com (raw.githubusercontent.com)... 185.199.108.133, 185.199.109.133, 185.199.110.133, ...\n",
            "Connecting to raw.githubusercontent.com (raw.githubusercontent.com)|185.199.108.133|:443... connected.\n",
            "HTTP request sent, awaiting response... 200 OK\n",
            "Length: 10627541 (10M) [text/plain]\n",
            "Saving to: ‘turkish_categorical_corpus.csv’\n",
            "\n",
            "turkish_categorical 100%[===================>]  10.13M  --.-KB/s    in 0.1s    \n",
            "\n",
            "2021-10-31 06:50:50 (97.8 MB/s) - ‘turkish_categorical_corpus.csv’ saved [10627541/10627541]\n",
            "\n"
          ]
        }
      ]
    },
    {
      "cell_type": "code",
      "metadata": {
        "colab": {
          "base_uri": "https://localhost:8080/"
        },
        "id": "rxVay9Uz4emf",
        "outputId": "07b8609d-53ef-42b6-a5e7-3812e2fd8f38"
      },
      "source": [
        "df_Spark.show(5, truncate=50)\n",
        "df_Spark.groupBy(\"category\").count().show()"
      ],
      "execution_count": 6,
      "outputs": [
        {
          "output_type": "stream",
          "name": "stdout",
          "text": [
            "+--------+--------------------------------------------------+\n",
            "|category|                                              text|\n",
            "+--------+--------------------------------------------------+\n",
            "|siyaset | 3 milyon ile ön seçim vaadi mhp nin 10 olağan ...|\n",
            "|siyaset | mesut_yılmaz yüce_divan da ceza alabilirdi pro...|\n",
            "|siyaset | disko lar kaldırılıyor başbakan_yardımcısı arı...|\n",
            "|siyaset | sarıgül anayasa_mahkemesi ne gidiyor mustafa_s...|\n",
            "|siyaset | erdoğan idamın bir haklılık sebebi var demek k...|\n",
            "+--------+--------------------------------------------------+\n",
            "only showing top 5 rows\n",
            "\n",
            "+----------+-----+\n",
            "|  category|count|\n",
            "+----------+-----+\n",
            "|   kultur |  700|\n",
            "|  siyaset |  700|\n",
            "|teknoloji |  700|\n",
            "|   saglik |  700|\n",
            "|  ekonomi |  700|\n",
            "|     spor |  700|\n",
            "|    dunya |  700|\n",
            "+----------+-----+\n",
            "\n"
          ]
        }
      ]
    },
    {
      "cell_type": "code",
      "metadata": {
        "id": "vJ6WqlYX5MI-"
      },
      "source": [
        "from pyspark.sql.functions import *\n",
        "df_Spark = df_Spark.withColumn('text', regexp_replace('text', '_', ' '))"
      ],
      "execution_count": 7,
      "outputs": []
    },
    {
      "cell_type": "code",
      "metadata": {
        "id": "zO89jw2e5UCg"
      },
      "source": [
        "train_news, test_news = df_Spark.randomSplit([0.8, 0.2], seed = 100)\n",
        "\n"
      ],
      "execution_count": 8,
      "outputs": []
    },
    {
      "cell_type": "code",
      "metadata": {
        "colab": {
          "base_uri": "https://localhost:8080/"
        },
        "id": "pIIc2vsB577J",
        "outputId": "ba1e792a-0878-48f0-d003-5475eaabcf55"
      },
      "source": [
        "document = DocumentAssembler()\\\n",
        "  .setInputCol(\"text\")\\\n",
        "  .setOutputCol(\"document\")\n",
        "sentence = SentenceDetector()\\\n",
        "  .setInputCols(['document'])\\\n",
        "  .setOutputCol('sentence')\n",
        "token = Tokenizer()\\\n",
        "  .setInputCols(['sentence'])\\\n",
        "  .setOutputCol('token')\n",
        "stop_words = StopWordsCleaner.pretrained('stopwords_tr', 'tr')\\\n",
        "  .setInputCols([\"token\"]) \\\n",
        "  .setOutputCol(\"cleanTokens\") \\\n",
        "  .setCaseSensitive(False)\n",
        "lemmatizer = LemmatizerModel.pretrained(\"lemma\", \"tr\") \\\n",
        "  .setInputCols([\"cleanTokens\"]) \\\n",
        "  .setOutputCol(\"lemma\")\n",
        "finisher = Finisher() \\\n",
        "  .setInputCols([\"lemma\"]) \\\n",
        "  .setOutputCols([\"token_features\"]) \\\n",
        "  .setOutputAsArray(True) \\\n",
        "  .setCleanAnnotations(False)"
      ],
      "execution_count": 9,
      "outputs": [
        {
          "output_type": "stream",
          "name": "stdout",
          "text": [
            "stopwords_tr download started this may take some time.\n",
            "Approximate size to download 2 KB\n",
            "[OK!]\n",
            "lemma download started this may take some time.\n",
            "Approximate size to download 14.8 MB\n",
            "[OK!]\n"
          ]
        }
      ]
    },
    {
      "cell_type": "code",
      "metadata": {
        "id": "j1ZJgBSnOWiA"
      },
      "source": [
        "from pyspark.ml.feature import HashingTF, IDF, StringIndexer, SQLTransformer,IndexToString\n",
        "from pyspark.ml.classification import LogisticRegression\n",
        "from pyspark.ml.evaluation import MulticlassClassificationEvaluator"
      ],
      "execution_count": 17,
      "outputs": []
    },
    {
      "cell_type": "code",
      "metadata": {
        "id": "FqBqSuRjHrn8"
      },
      "source": [
        "hashTF = HashingTF(inputCol=\"token_features\", outputCol=\"raw_features\")\n",
        "idf = IDF(inputCol=\"raw_features\", outputCol=\"features\", minDocFreq=5)\n",
        "label_strIdx = StringIndexer(inputCol=\"category\", outputCol=\"label\")\n",
        "logReg = LogisticRegression(maxIter=10)\n",
        "label_Idxstr = IndexToString(inputCol=\"label\", outputCol=\"article_class\")\n",
        "# Pipeline for Logistic Regression Classifier\n",
        "nlp_pipeline_lr = Pipeline(\n",
        "    stages=[document,\n",
        "    sentence,\n",
        "    token,\n",
        "    stop_words,\n",
        "    lemmatizer,\n",
        "    finisher,\n",
        "    hashTF,\n",
        "    idf,\n",
        "    label_strIdx,\n",
        "    logReg,\n",
        "    label_Idxstr])"
      ],
      "execution_count": 18,
      "outputs": []
    },
    {
      "cell_type": "code",
      "metadata": {
        "id": "Q5efNKSOOdW-"
      },
      "source": [
        "classification_model_lr = nlp_pipeline_lr.fit(train_news)"
      ],
      "execution_count": 19,
      "outputs": []
    },
    {
      "cell_type": "code",
      "metadata": {
        "colab": {
          "base_uri": "https://localhost:8080/"
        },
        "id": "Npuvi3gvPEBP",
        "outputId": "743df075-fd43-47f6-ae58-bdbe34278394"
      },
      "source": [
        "from sklearn.metrics import classification_report, accuracy_score\n",
        "# Converting Spark DF into Pandas DF\n",
        "df_lr = classification_model_lr \\\n",
        "  .transform(test_news) \\\n",
        "  .select(\"category\", \"label\", \"prediction\") \\\n",
        "  .toPandas()\n",
        "print(classification_report(df_lr.label, df_lr.prediction))"
      ],
      "execution_count": 24,
      "outputs": [
        {
          "output_type": "stream",
          "name": "stdout",
          "text": [
            "              precision    recall  f1-score   support\n",
            "\n",
            "         0.0       0.81      0.84      0.83       114\n",
            "         1.0       0.87      0.85      0.86       132\n",
            "         2.0       0.83      0.86      0.84       136\n",
            "         3.0       0.94      0.96      0.95       142\n",
            "         4.0       0.97      0.98      0.98       143\n",
            "         5.0       0.92      0.86      0.89       149\n",
            "         6.0       0.94      0.95      0.94       150\n",
            "\n",
            "    accuracy                           0.90       966\n",
            "   macro avg       0.90      0.90      0.90       966\n",
            "weighted avg       0.90      0.90      0.90       966\n",
            "\n"
          ]
        }
      ]
    },
    {
      "cell_type": "code",
      "metadata": {
        "id": "_SSRpLdPQUvt"
      },
      "source": [
        "classification_model_lr.save('model2')"
      ],
      "execution_count": 25,
      "outputs": []
    },
    {
      "cell_type": "code",
      "metadata": {
        "id": "ZvE_p79xihwx"
      },
      "source": [
        "predictions =  classification_model_lr.transform(test_news)"
      ],
      "execution_count": 51,
      "outputs": []
    },
    {
      "cell_type": "code",
      "metadata": {
        "id": "oSUpwiNdi2TD"
      },
      "source": [
        "predictions.show(10)"
      ],
      "execution_count": null,
      "outputs": []
    },
    {
      "cell_type": "code",
      "metadata": {
        "id": "rYWR3p2zjk_4"
      },
      "source": [
        "df_lr = classification_model_lr \\\n",
        "   .transform(test_news) \\\n",
        "   .select(\"category\", \"label\", \"prediction\",\"article_class\") \\\n",
        "   .toPandas()\n",
        "df_lr.head()"
      ],
      "execution_count": null,
      "outputs": []
    }
  ]
}